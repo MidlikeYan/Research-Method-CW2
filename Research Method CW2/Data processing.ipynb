{
 "cells": [
  {
   "cell_type": "code",
   "execution_count": 71,
   "id": "initial_id",
   "metadata": {
    "collapsed": true,
    "ExecuteTime": {
     "end_time": "2024-04-25T17:33:24.452445400Z",
     "start_time": "2024-04-25T17:33:24.154278700Z"
    }
   },
   "outputs": [
    {
     "data": {
      "text/plain": "       mc_run_id           grouping  mean_ghgs  mean_land  mean_watscar  \\\n0              1  fish_female_20-29   5.421821   8.612772   14165.86240   \n1              1  fish_female_30-39   5.436673   8.680248   15222.77063   \n2              1  fish_female_40-49   5.289333   8.467723   15818.80068   \n3              1  fish_female_50-59   5.169020   8.219199   16962.06009   \n4              1  fish_female_60-69   5.380268   8.570718   18212.66232   \n...          ...                ...        ...        ...           ...   \n71995       1000  veggie_male_30-39   6.615301  11.385959   13374.38105   \n71996       1000  veggie_male_40-49   6.185949  10.566347   12959.68443   \n71997       1000  veggie_male_50-59   5.871454   9.806539   11924.19092   \n71998       1000  veggie_male_60-69   5.922496   9.873027   11310.87733   \n71999       1000  veggie_male_70-79   6.339353  10.383692   11259.04221   \n\n        mean_eut  mean_ghgs_ch4  mean_ghgs_n2o    mean_bio  mean_watuse  ...  \\\n0      23.945372       1.164643       0.343663  476.270413   679.923479  ...   \n1      24.305262       1.154118       0.326868  467.923201   709.343785  ...   \n2      24.191105       1.108404       0.310324  438.659832   707.925368  ...   \n3      24.748154       1.032501       0.298130  395.787622   720.825105  ...   \n4      25.559430       1.098828       0.310735  421.176867   749.392826  ...   \n...          ...            ...            ...         ...          ...  ...   \n71995  18.283800       1.769398       0.482313  641.918305   560.925069  ...   \n71996  17.342092       1.605406       0.446074  580.913591   527.860144  ...   \n71997  16.625511       1.468003       0.431966  533.784777   487.176818  ...   \n71998  16.531075       1.492114       0.437879  545.453273   487.030916  ...   \n71999  17.413847       1.644123       0.488487  609.164094   512.413437  ...   \n\n         sd_eut  sd_ghgs_ch4  sd_ghgs_n2o      sd_bio   sd_watuse   sd_acid  \\\n0      8.167013     0.632547     0.146827  283.883428  249.472563  8.231176   \n1      8.467858     0.601941     0.130298  270.247108  277.927269  7.947014   \n2      8.107006     0.572941     0.119872  252.415063  275.760515  8.103589   \n3      9.514028     0.509689     0.104731  209.566722  310.422445  8.712428   \n4      9.258068     0.609398     0.113401  264.599257  315.922570  8.616601   \n...         ...          ...          ...         ...         ...       ...   \n71995  6.829520     1.524615     0.269856  610.318478  268.939576  8.510504   \n71996  6.369390     1.430116     0.252651  570.034533  262.366892  7.988943   \n71997  6.266982     1.381163     0.274705  559.427383  241.645519  7.780208   \n71998  6.240777     1.435583     0.276000  582.000324  244.768887  7.779582   \n71999  6.959953     1.426388     0.329489  576.831592  246.024277  8.942247   \n\n       n_participants     sex  diet_group  age_group  \n0                1329  female        fish      20-29  \n1                2024  female        fish      30-39  \n2                1689  female        fish      40-49  \n3                 946  female        fish      50-59  \n4                 492  female        fish      60-69  \n...               ...     ...         ...        ...  \n71995            1221    male      veggie      30-39  \n71996             961    male      veggie      40-49  \n71997             426    male      veggie      50-59  \n71998             229    male      veggie      60-69  \n71999             158    male      veggie      70-79  \n\n[72000 rows x 24 columns]",
      "text/html": "<div>\n<style scoped>\n    .dataframe tbody tr th:only-of-type {\n        vertical-align: middle;\n    }\n\n    .dataframe tbody tr th {\n        vertical-align: top;\n    }\n\n    .dataframe thead th {\n        text-align: right;\n    }\n</style>\n<table border=\"1\" class=\"dataframe\">\n  <thead>\n    <tr style=\"text-align: right;\">\n      <th></th>\n      <th>mc_run_id</th>\n      <th>grouping</th>\n      <th>mean_ghgs</th>\n      <th>mean_land</th>\n      <th>mean_watscar</th>\n      <th>mean_eut</th>\n      <th>mean_ghgs_ch4</th>\n      <th>mean_ghgs_n2o</th>\n      <th>mean_bio</th>\n      <th>mean_watuse</th>\n      <th>...</th>\n      <th>sd_eut</th>\n      <th>sd_ghgs_ch4</th>\n      <th>sd_ghgs_n2o</th>\n      <th>sd_bio</th>\n      <th>sd_watuse</th>\n      <th>sd_acid</th>\n      <th>n_participants</th>\n      <th>sex</th>\n      <th>diet_group</th>\n      <th>age_group</th>\n    </tr>\n  </thead>\n  <tbody>\n    <tr>\n      <th>0</th>\n      <td>1</td>\n      <td>fish_female_20-29</td>\n      <td>5.421821</td>\n      <td>8.612772</td>\n      <td>14165.86240</td>\n      <td>23.945372</td>\n      <td>1.164643</td>\n      <td>0.343663</td>\n      <td>476.270413</td>\n      <td>679.923479</td>\n      <td>...</td>\n      <td>8.167013</td>\n      <td>0.632547</td>\n      <td>0.146827</td>\n      <td>283.883428</td>\n      <td>249.472563</td>\n      <td>8.231176</td>\n      <td>1329</td>\n      <td>female</td>\n      <td>fish</td>\n      <td>20-29</td>\n    </tr>\n    <tr>\n      <th>1</th>\n      <td>1</td>\n      <td>fish_female_30-39</td>\n      <td>5.436673</td>\n      <td>8.680248</td>\n      <td>15222.77063</td>\n      <td>24.305262</td>\n      <td>1.154118</td>\n      <td>0.326868</td>\n      <td>467.923201</td>\n      <td>709.343785</td>\n      <td>...</td>\n      <td>8.467858</td>\n      <td>0.601941</td>\n      <td>0.130298</td>\n      <td>270.247108</td>\n      <td>277.927269</td>\n      <td>7.947014</td>\n      <td>2024</td>\n      <td>female</td>\n      <td>fish</td>\n      <td>30-39</td>\n    </tr>\n    <tr>\n      <th>2</th>\n      <td>1</td>\n      <td>fish_female_40-49</td>\n      <td>5.289333</td>\n      <td>8.467723</td>\n      <td>15818.80068</td>\n      <td>24.191105</td>\n      <td>1.108404</td>\n      <td>0.310324</td>\n      <td>438.659832</td>\n      <td>707.925368</td>\n      <td>...</td>\n      <td>8.107006</td>\n      <td>0.572941</td>\n      <td>0.119872</td>\n      <td>252.415063</td>\n      <td>275.760515</td>\n      <td>8.103589</td>\n      <td>1689</td>\n      <td>female</td>\n      <td>fish</td>\n      <td>40-49</td>\n    </tr>\n    <tr>\n      <th>3</th>\n      <td>1</td>\n      <td>fish_female_50-59</td>\n      <td>5.169020</td>\n      <td>8.219199</td>\n      <td>16962.06009</td>\n      <td>24.748154</td>\n      <td>1.032501</td>\n      <td>0.298130</td>\n      <td>395.787622</td>\n      <td>720.825105</td>\n      <td>...</td>\n      <td>9.514028</td>\n      <td>0.509689</td>\n      <td>0.104731</td>\n      <td>209.566722</td>\n      <td>310.422445</td>\n      <td>8.712428</td>\n      <td>946</td>\n      <td>female</td>\n      <td>fish</td>\n      <td>50-59</td>\n    </tr>\n    <tr>\n      <th>4</th>\n      <td>1</td>\n      <td>fish_female_60-69</td>\n      <td>5.380268</td>\n      <td>8.570718</td>\n      <td>18212.66232</td>\n      <td>25.559430</td>\n      <td>1.098828</td>\n      <td>0.310735</td>\n      <td>421.176867</td>\n      <td>749.392826</td>\n      <td>...</td>\n      <td>9.258068</td>\n      <td>0.609398</td>\n      <td>0.113401</td>\n      <td>264.599257</td>\n      <td>315.922570</td>\n      <td>8.616601</td>\n      <td>492</td>\n      <td>female</td>\n      <td>fish</td>\n      <td>60-69</td>\n    </tr>\n    <tr>\n      <th>...</th>\n      <td>...</td>\n      <td>...</td>\n      <td>...</td>\n      <td>...</td>\n      <td>...</td>\n      <td>...</td>\n      <td>...</td>\n      <td>...</td>\n      <td>...</td>\n      <td>...</td>\n      <td>...</td>\n      <td>...</td>\n      <td>...</td>\n      <td>...</td>\n      <td>...</td>\n      <td>...</td>\n      <td>...</td>\n      <td>...</td>\n      <td>...</td>\n      <td>...</td>\n      <td>...</td>\n    </tr>\n    <tr>\n      <th>71995</th>\n      <td>1000</td>\n      <td>veggie_male_30-39</td>\n      <td>6.615301</td>\n      <td>11.385959</td>\n      <td>13374.38105</td>\n      <td>18.283800</td>\n      <td>1.769398</td>\n      <td>0.482313</td>\n      <td>641.918305</td>\n      <td>560.925069</td>\n      <td>...</td>\n      <td>6.829520</td>\n      <td>1.524615</td>\n      <td>0.269856</td>\n      <td>610.318478</td>\n      <td>268.939576</td>\n      <td>8.510504</td>\n      <td>1221</td>\n      <td>male</td>\n      <td>veggie</td>\n      <td>30-39</td>\n    </tr>\n    <tr>\n      <th>71996</th>\n      <td>1000</td>\n      <td>veggie_male_40-49</td>\n      <td>6.185949</td>\n      <td>10.566347</td>\n      <td>12959.68443</td>\n      <td>17.342092</td>\n      <td>1.605406</td>\n      <td>0.446074</td>\n      <td>580.913591</td>\n      <td>527.860144</td>\n      <td>...</td>\n      <td>6.369390</td>\n      <td>1.430116</td>\n      <td>0.252651</td>\n      <td>570.034533</td>\n      <td>262.366892</td>\n      <td>7.988943</td>\n      <td>961</td>\n      <td>male</td>\n      <td>veggie</td>\n      <td>40-49</td>\n    </tr>\n    <tr>\n      <th>71997</th>\n      <td>1000</td>\n      <td>veggie_male_50-59</td>\n      <td>5.871454</td>\n      <td>9.806539</td>\n      <td>11924.19092</td>\n      <td>16.625511</td>\n      <td>1.468003</td>\n      <td>0.431966</td>\n      <td>533.784777</td>\n      <td>487.176818</td>\n      <td>...</td>\n      <td>6.266982</td>\n      <td>1.381163</td>\n      <td>0.274705</td>\n      <td>559.427383</td>\n      <td>241.645519</td>\n      <td>7.780208</td>\n      <td>426</td>\n      <td>male</td>\n      <td>veggie</td>\n      <td>50-59</td>\n    </tr>\n    <tr>\n      <th>71998</th>\n      <td>1000</td>\n      <td>veggie_male_60-69</td>\n      <td>5.922496</td>\n      <td>9.873027</td>\n      <td>11310.87733</td>\n      <td>16.531075</td>\n      <td>1.492114</td>\n      <td>0.437879</td>\n      <td>545.453273</td>\n      <td>487.030916</td>\n      <td>...</td>\n      <td>6.240777</td>\n      <td>1.435583</td>\n      <td>0.276000</td>\n      <td>582.000324</td>\n      <td>244.768887</td>\n      <td>7.779582</td>\n      <td>229</td>\n      <td>male</td>\n      <td>veggie</td>\n      <td>60-69</td>\n    </tr>\n    <tr>\n      <th>71999</th>\n      <td>1000</td>\n      <td>veggie_male_70-79</td>\n      <td>6.339353</td>\n      <td>10.383692</td>\n      <td>11259.04221</td>\n      <td>17.413847</td>\n      <td>1.644123</td>\n      <td>0.488487</td>\n      <td>609.164094</td>\n      <td>512.413437</td>\n      <td>...</td>\n      <td>6.959953</td>\n      <td>1.426388</td>\n      <td>0.329489</td>\n      <td>576.831592</td>\n      <td>246.024277</td>\n      <td>8.942247</td>\n      <td>158</td>\n      <td>male</td>\n      <td>veggie</td>\n      <td>70-79</td>\n    </tr>\n  </tbody>\n</table>\n<p>72000 rows × 24 columns</p>\n</div>"
     },
     "execution_count": 71,
     "metadata": {},
     "output_type": "execute_result"
    }
   ],
   "source": [
    "import pandas as pd\n",
    "# df = pd.read_csv('Results_21Mar2022 (1).csv',index_col=[1,21,22,23])\n",
    "df = pd.read_csv('Results_21Mar2022 (1).csv')\n",
    "df"
   ]
  },
  {
   "cell_type": "code",
   "execution_count": 72,
   "outputs": [
    {
     "name": "stdout",
     "output_type": "stream",
     "text": [
      "<class 'pandas.core.frame.DataFrame'>\n",
      "Index: 72 entries, 0 to 71\n",
      "Data columns (total 24 columns):\n",
      " #   Column          Non-Null Count  Dtype  \n",
      "---  ------          --------------  -----  \n",
      " 0   mc_run_id       72 non-null     int64  \n",
      " 1   grouping        72 non-null     object \n",
      " 2   mean_ghgs       72 non-null     float64\n",
      " 3   mean_land       72 non-null     float64\n",
      " 4   mean_watscar    72 non-null     float64\n",
      " 5   mean_eut        72 non-null     float64\n",
      " 6   mean_ghgs_ch4   72 non-null     float64\n",
      " 7   mean_ghgs_n2o   72 non-null     float64\n",
      " 8   mean_bio        72 non-null     float64\n",
      " 9   mean_watuse     72 non-null     float64\n",
      " 10  mean_acid       72 non-null     float64\n",
      " 11  sd_ghgs         72 non-null     float64\n",
      " 12  sd_land         72 non-null     float64\n",
      " 13  sd_watscar      72 non-null     float64\n",
      " 14  sd_eut          72 non-null     float64\n",
      " 15  sd_ghgs_ch4     72 non-null     float64\n",
      " 16  sd_ghgs_n2o     72 non-null     float64\n",
      " 17  sd_bio          72 non-null     float64\n",
      " 18  sd_watuse       72 non-null     float64\n",
      " 19  sd_acid         72 non-null     float64\n",
      " 20  n_participants  72 non-null     int64  \n",
      " 21  sex             72 non-null     object \n",
      " 22  diet_group      72 non-null     object \n",
      " 23  age_group       72 non-null     object \n",
      "dtypes: float64(18), int64(2), object(4)\n",
      "memory usage: 14.1+ KB\n"
     ]
    }
   ],
   "source": [
    "df_1 = df.loc[df['mc_run_id']==1]\n",
    "df_1.info()\n",
    "label = df_1[['grouping','sex', 'diet_group', 'age_group']].copy()\n"
   ],
   "metadata": {
    "collapsed": false,
    "ExecuteTime": {
     "end_time": "2024-04-25T17:33:24.469224300Z",
     "start_time": "2024-04-25T17:33:24.450450200Z"
    }
   },
   "id": "9d5d9d8dba4cdb16"
  },
  {
   "cell_type": "code",
   "execution_count": 73,
   "outputs": [
    {
     "data": {
      "text/plain": "             grouping     sex diet_group age_group\n0   fish_female_20-29  female       fish     20-29\n1   fish_female_30-39  female       fish     30-39\n2   fish_female_40-49  female       fish     40-49\n3   fish_female_50-59  female       fish     50-59\n4   fish_female_60-69  female       fish     60-69\n..                ...     ...        ...       ...\n67  veggie_male_30-39    male     veggie     30-39\n68  veggie_male_40-49    male     veggie     40-49\n69  veggie_male_50-59    male     veggie     50-59\n70  veggie_male_60-69    male     veggie     60-69\n71  veggie_male_70-79    male     veggie     70-79\n\n[72 rows x 4 columns]",
      "text/html": "<div>\n<style scoped>\n    .dataframe tbody tr th:only-of-type {\n        vertical-align: middle;\n    }\n\n    .dataframe tbody tr th {\n        vertical-align: top;\n    }\n\n    .dataframe thead th {\n        text-align: right;\n    }\n</style>\n<table border=\"1\" class=\"dataframe\">\n  <thead>\n    <tr style=\"text-align: right;\">\n      <th></th>\n      <th>grouping</th>\n      <th>sex</th>\n      <th>diet_group</th>\n      <th>age_group</th>\n    </tr>\n  </thead>\n  <tbody>\n    <tr>\n      <th>0</th>\n      <td>fish_female_20-29</td>\n      <td>female</td>\n      <td>fish</td>\n      <td>20-29</td>\n    </tr>\n    <tr>\n      <th>1</th>\n      <td>fish_female_30-39</td>\n      <td>female</td>\n      <td>fish</td>\n      <td>30-39</td>\n    </tr>\n    <tr>\n      <th>2</th>\n      <td>fish_female_40-49</td>\n      <td>female</td>\n      <td>fish</td>\n      <td>40-49</td>\n    </tr>\n    <tr>\n      <th>3</th>\n      <td>fish_female_50-59</td>\n      <td>female</td>\n      <td>fish</td>\n      <td>50-59</td>\n    </tr>\n    <tr>\n      <th>4</th>\n      <td>fish_female_60-69</td>\n      <td>female</td>\n      <td>fish</td>\n      <td>60-69</td>\n    </tr>\n    <tr>\n      <th>...</th>\n      <td>...</td>\n      <td>...</td>\n      <td>...</td>\n      <td>...</td>\n    </tr>\n    <tr>\n      <th>67</th>\n      <td>veggie_male_30-39</td>\n      <td>male</td>\n      <td>veggie</td>\n      <td>30-39</td>\n    </tr>\n    <tr>\n      <th>68</th>\n      <td>veggie_male_40-49</td>\n      <td>male</td>\n      <td>veggie</td>\n      <td>40-49</td>\n    </tr>\n    <tr>\n      <th>69</th>\n      <td>veggie_male_50-59</td>\n      <td>male</td>\n      <td>veggie</td>\n      <td>50-59</td>\n    </tr>\n    <tr>\n      <th>70</th>\n      <td>veggie_male_60-69</td>\n      <td>male</td>\n      <td>veggie</td>\n      <td>60-69</td>\n    </tr>\n    <tr>\n      <th>71</th>\n      <td>veggie_male_70-79</td>\n      <td>male</td>\n      <td>veggie</td>\n      <td>70-79</td>\n    </tr>\n  </tbody>\n</table>\n<p>72 rows × 4 columns</p>\n</div>"
     },
     "execution_count": 73,
     "metadata": {},
     "output_type": "execute_result"
    }
   ],
   "source": [
    "label"
   ],
   "metadata": {
    "collapsed": false,
    "ExecuteTime": {
     "end_time": "2024-04-25T17:33:24.507776600Z",
     "start_time": "2024-04-25T17:33:24.465108100Z"
    }
   },
   "id": "7c6409e875c1fc16"
  },
  {
   "cell_type": "code",
   "execution_count": 74,
   "outputs": [],
   "source": [
    "df.drop(columns=['sex','diet_group','age_group'],inplace=True)"
   ],
   "metadata": {
    "collapsed": false,
    "ExecuteTime": {
     "end_time": "2024-04-25T17:33:24.527352Z",
     "start_time": "2024-04-25T17:33:24.481673400Z"
    }
   },
   "id": "dd359b46a9a90407"
  },
  {
   "cell_type": "code",
   "execution_count": 75,
   "outputs": [],
   "source": [
    "df_mean = df.groupby('grouping').mean()\n"
   ],
   "metadata": {
    "collapsed": false,
    "ExecuteTime": {
     "end_time": "2024-04-25T17:33:24.611259200Z",
     "start_time": "2024-04-25T17:33:24.496261900Z"
    }
   },
   "id": "3aa9cbabfa8c5d47"
  },
  {
   "cell_type": "code",
   "execution_count": 76,
   "outputs": [
    {
     "data": {
      "text/plain": "                   mc_run_id  mean_ghgs  mean_land  mean_watscar   mean_eut  \\\ngrouping                                                                      \nfish_female_20-29      500.5   4.902947   6.489031  17131.963352  20.985464   \nfish_female_30-39      500.5   4.942664   6.515886  17652.628540  20.948442   \nfish_female_40-49      500.5   4.927040   6.540682  17729.964756  20.713798   \nfish_female_50-59      500.5   4.944320   6.566172  18446.193259  20.989284   \nfish_female_60-69      500.5   5.103823   6.866635  18922.366831  21.569322   \n...                      ...        ...        ...           ...        ...   \nveggie_male_30-39      500.5   4.807758   6.787163  16603.476202  18.988080   \nveggie_male_40-49      500.5   4.610379   6.610474  16477.661724  18.275813   \nveggie_male_50-59      500.5   4.455095   6.522068  16333.409315  17.619071   \nveggie_male_60-69      500.5   4.444844   6.628730  16725.207750  17.543012   \nveggie_male_70-79      500.5   4.612451   6.842653  17972.881279  18.283813   \n\n                   mean_ghgs_ch4  mean_ghgs_n2o    mean_bio  mean_watuse  \\\ngrouping                                                                   \nfish_female_20-29       0.842864       0.322486  248.135212   759.237211   \nfish_female_30-39       0.836500       0.321971  249.827684   759.629613   \nfish_female_40-49       0.841106       0.320413  252.846922   748.488755   \nfish_female_50-59       0.834881       0.323892  246.789912   788.932276   \nfish_female_60-69       0.879670       0.336023  258.645759   819.856604   \n...                          ...            ...         ...          ...   \nveggie_male_30-39       0.811991       0.316326  266.148897   594.307015   \nveggie_male_40-49       0.764687       0.304605  251.351926   576.240665   \nveggie_male_50-59       0.733031       0.299523  244.248429   559.640001   \nveggie_male_60-69       0.738550       0.305724  248.603854   566.825960   \nveggie_male_70-79       0.794673       0.319633  259.421351   602.571533   \n\n                   mean_acid   sd_ghgs   sd_land    sd_watscar    sd_eut  \\\ngrouping                                                                   \nfish_female_20-29  22.770956  1.819124  2.895212   7315.274034  7.189752   \nfish_female_30-39  23.257771  1.727493  2.723231   7515.542350  6.925886   \nfish_female_40-49  23.470170  1.732307  2.518288   7642.383968  6.733437   \nfish_female_50-59  23.652474  1.851260  2.780671   8322.719017  7.751550   \nfish_female_60-69  24.455240  1.886936  2.941794   8307.791478  7.400676   \n...                      ...       ...       ...           ...       ...   \nveggie_male_30-39  22.864091  1.906664  2.703825   8032.172974  6.677684   \nveggie_male_40-49  21.866199  1.788238  2.749097   7881.819381  6.434835   \nveggie_male_50-59  21.186608  1.756344  2.913828   7826.715468  6.296666   \nveggie_male_60-69  21.321332  1.707170  2.701820   8429.038591  6.148243   \nveggie_male_70-79  22.133811  1.861528  2.704480  10261.231468  6.847723   \n\n                   sd_ghgs_ch4  sd_ghgs_n2o      sd_bio   sd_watuse   sd_acid  \\\ngrouping                                                                        \nfish_female_20-29     0.457345     0.134187  152.081144  353.395121  8.314474   \nfish_female_30-39     0.434478     0.126576  147.730751  350.984434  7.925312   \nfish_female_40-49     0.455165     0.128772  156.433538  350.627288  8.131584   \nfish_female_50-59     0.468678     0.129589  152.830237  420.222385  8.578845   \nfish_female_60-69     0.486861     0.134746  163.020137  413.198002  8.663941   \n...                        ...          ...         ...         ...       ...   \nveggie_male_30-39     0.506769     0.137472  175.121990  267.344494  9.331239   \nveggie_male_40-49     0.474374     0.133076  163.537692  261.457254  8.565340   \nveggie_male_50-59     0.469605     0.133225  162.816253  257.438657  8.310075   \nveggie_male_60-69     0.463256     0.130636  164.801151  267.844203  8.227252   \nveggie_male_70-79     0.499923     0.146075  176.067058  316.254523  8.917028   \n\n                   n_participants  \ngrouping                           \nfish_female_20-29          1329.0  \nfish_female_30-39          2024.0  \nfish_female_40-49          1689.0  \nfish_female_50-59           946.0  \nfish_female_60-69           492.0  \n...                           ...  \nveggie_male_30-39          1221.0  \nveggie_male_40-49           961.0  \nveggie_male_50-59           426.0  \nveggie_male_60-69           229.0  \nveggie_male_70-79           158.0  \n\n[72 rows x 20 columns]",
      "text/html": "<div>\n<style scoped>\n    .dataframe tbody tr th:only-of-type {\n        vertical-align: middle;\n    }\n\n    .dataframe tbody tr th {\n        vertical-align: top;\n    }\n\n    .dataframe thead th {\n        text-align: right;\n    }\n</style>\n<table border=\"1\" class=\"dataframe\">\n  <thead>\n    <tr style=\"text-align: right;\">\n      <th></th>\n      <th>mc_run_id</th>\n      <th>mean_ghgs</th>\n      <th>mean_land</th>\n      <th>mean_watscar</th>\n      <th>mean_eut</th>\n      <th>mean_ghgs_ch4</th>\n      <th>mean_ghgs_n2o</th>\n      <th>mean_bio</th>\n      <th>mean_watuse</th>\n      <th>mean_acid</th>\n      <th>sd_ghgs</th>\n      <th>sd_land</th>\n      <th>sd_watscar</th>\n      <th>sd_eut</th>\n      <th>sd_ghgs_ch4</th>\n      <th>sd_ghgs_n2o</th>\n      <th>sd_bio</th>\n      <th>sd_watuse</th>\n      <th>sd_acid</th>\n      <th>n_participants</th>\n    </tr>\n    <tr>\n      <th>grouping</th>\n      <th></th>\n      <th></th>\n      <th></th>\n      <th></th>\n      <th></th>\n      <th></th>\n      <th></th>\n      <th></th>\n      <th></th>\n      <th></th>\n      <th></th>\n      <th></th>\n      <th></th>\n      <th></th>\n      <th></th>\n      <th></th>\n      <th></th>\n      <th></th>\n      <th></th>\n      <th></th>\n    </tr>\n  </thead>\n  <tbody>\n    <tr>\n      <th>fish_female_20-29</th>\n      <td>500.5</td>\n      <td>4.902947</td>\n      <td>6.489031</td>\n      <td>17131.963352</td>\n      <td>20.985464</td>\n      <td>0.842864</td>\n      <td>0.322486</td>\n      <td>248.135212</td>\n      <td>759.237211</td>\n      <td>22.770956</td>\n      <td>1.819124</td>\n      <td>2.895212</td>\n      <td>7315.274034</td>\n      <td>7.189752</td>\n      <td>0.457345</td>\n      <td>0.134187</td>\n      <td>152.081144</td>\n      <td>353.395121</td>\n      <td>8.314474</td>\n      <td>1329.0</td>\n    </tr>\n    <tr>\n      <th>fish_female_30-39</th>\n      <td>500.5</td>\n      <td>4.942664</td>\n      <td>6.515886</td>\n      <td>17652.628540</td>\n      <td>20.948442</td>\n      <td>0.836500</td>\n      <td>0.321971</td>\n      <td>249.827684</td>\n      <td>759.629613</td>\n      <td>23.257771</td>\n      <td>1.727493</td>\n      <td>2.723231</td>\n      <td>7515.542350</td>\n      <td>6.925886</td>\n      <td>0.434478</td>\n      <td>0.126576</td>\n      <td>147.730751</td>\n      <td>350.984434</td>\n      <td>7.925312</td>\n      <td>2024.0</td>\n    </tr>\n    <tr>\n      <th>fish_female_40-49</th>\n      <td>500.5</td>\n      <td>4.927040</td>\n      <td>6.540682</td>\n      <td>17729.964756</td>\n      <td>20.713798</td>\n      <td>0.841106</td>\n      <td>0.320413</td>\n      <td>252.846922</td>\n      <td>748.488755</td>\n      <td>23.470170</td>\n      <td>1.732307</td>\n      <td>2.518288</td>\n      <td>7642.383968</td>\n      <td>6.733437</td>\n      <td>0.455165</td>\n      <td>0.128772</td>\n      <td>156.433538</td>\n      <td>350.627288</td>\n      <td>8.131584</td>\n      <td>1689.0</td>\n    </tr>\n    <tr>\n      <th>fish_female_50-59</th>\n      <td>500.5</td>\n      <td>4.944320</td>\n      <td>6.566172</td>\n      <td>18446.193259</td>\n      <td>20.989284</td>\n      <td>0.834881</td>\n      <td>0.323892</td>\n      <td>246.789912</td>\n      <td>788.932276</td>\n      <td>23.652474</td>\n      <td>1.851260</td>\n      <td>2.780671</td>\n      <td>8322.719017</td>\n      <td>7.751550</td>\n      <td>0.468678</td>\n      <td>0.129589</td>\n      <td>152.830237</td>\n      <td>420.222385</td>\n      <td>8.578845</td>\n      <td>946.0</td>\n    </tr>\n    <tr>\n      <th>fish_female_60-69</th>\n      <td>500.5</td>\n      <td>5.103823</td>\n      <td>6.866635</td>\n      <td>18922.366831</td>\n      <td>21.569322</td>\n      <td>0.879670</td>\n      <td>0.336023</td>\n      <td>258.645759</td>\n      <td>819.856604</td>\n      <td>24.455240</td>\n      <td>1.886936</td>\n      <td>2.941794</td>\n      <td>8307.791478</td>\n      <td>7.400676</td>\n      <td>0.486861</td>\n      <td>0.134746</td>\n      <td>163.020137</td>\n      <td>413.198002</td>\n      <td>8.663941</td>\n      <td>492.0</td>\n    </tr>\n    <tr>\n      <th>...</th>\n      <td>...</td>\n      <td>...</td>\n      <td>...</td>\n      <td>...</td>\n      <td>...</td>\n      <td>...</td>\n      <td>...</td>\n      <td>...</td>\n      <td>...</td>\n      <td>...</td>\n      <td>...</td>\n      <td>...</td>\n      <td>...</td>\n      <td>...</td>\n      <td>...</td>\n      <td>...</td>\n      <td>...</td>\n      <td>...</td>\n      <td>...</td>\n      <td>...</td>\n    </tr>\n    <tr>\n      <th>veggie_male_30-39</th>\n      <td>500.5</td>\n      <td>4.807758</td>\n      <td>6.787163</td>\n      <td>16603.476202</td>\n      <td>18.988080</td>\n      <td>0.811991</td>\n      <td>0.316326</td>\n      <td>266.148897</td>\n      <td>594.307015</td>\n      <td>22.864091</td>\n      <td>1.906664</td>\n      <td>2.703825</td>\n      <td>8032.172974</td>\n      <td>6.677684</td>\n      <td>0.506769</td>\n      <td>0.137472</td>\n      <td>175.121990</td>\n      <td>267.344494</td>\n      <td>9.331239</td>\n      <td>1221.0</td>\n    </tr>\n    <tr>\n      <th>veggie_male_40-49</th>\n      <td>500.5</td>\n      <td>4.610379</td>\n      <td>6.610474</td>\n      <td>16477.661724</td>\n      <td>18.275813</td>\n      <td>0.764687</td>\n      <td>0.304605</td>\n      <td>251.351926</td>\n      <td>576.240665</td>\n      <td>21.866199</td>\n      <td>1.788238</td>\n      <td>2.749097</td>\n      <td>7881.819381</td>\n      <td>6.434835</td>\n      <td>0.474374</td>\n      <td>0.133076</td>\n      <td>163.537692</td>\n      <td>261.457254</td>\n      <td>8.565340</td>\n      <td>961.0</td>\n    </tr>\n    <tr>\n      <th>veggie_male_50-59</th>\n      <td>500.5</td>\n      <td>4.455095</td>\n      <td>6.522068</td>\n      <td>16333.409315</td>\n      <td>17.619071</td>\n      <td>0.733031</td>\n      <td>0.299523</td>\n      <td>244.248429</td>\n      <td>559.640001</td>\n      <td>21.186608</td>\n      <td>1.756344</td>\n      <td>2.913828</td>\n      <td>7826.715468</td>\n      <td>6.296666</td>\n      <td>0.469605</td>\n      <td>0.133225</td>\n      <td>162.816253</td>\n      <td>257.438657</td>\n      <td>8.310075</td>\n      <td>426.0</td>\n    </tr>\n    <tr>\n      <th>veggie_male_60-69</th>\n      <td>500.5</td>\n      <td>4.444844</td>\n      <td>6.628730</td>\n      <td>16725.207750</td>\n      <td>17.543012</td>\n      <td>0.738550</td>\n      <td>0.305724</td>\n      <td>248.603854</td>\n      <td>566.825960</td>\n      <td>21.321332</td>\n      <td>1.707170</td>\n      <td>2.701820</td>\n      <td>8429.038591</td>\n      <td>6.148243</td>\n      <td>0.463256</td>\n      <td>0.130636</td>\n      <td>164.801151</td>\n      <td>267.844203</td>\n      <td>8.227252</td>\n      <td>229.0</td>\n    </tr>\n    <tr>\n      <th>veggie_male_70-79</th>\n      <td>500.5</td>\n      <td>4.612451</td>\n      <td>6.842653</td>\n      <td>17972.881279</td>\n      <td>18.283813</td>\n      <td>0.794673</td>\n      <td>0.319633</td>\n      <td>259.421351</td>\n      <td>602.571533</td>\n      <td>22.133811</td>\n      <td>1.861528</td>\n      <td>2.704480</td>\n      <td>10261.231468</td>\n      <td>6.847723</td>\n      <td>0.499923</td>\n      <td>0.146075</td>\n      <td>176.067058</td>\n      <td>316.254523</td>\n      <td>8.917028</td>\n      <td>158.0</td>\n    </tr>\n  </tbody>\n</table>\n<p>72 rows × 20 columns</p>\n</div>"
     },
     "execution_count": 76,
     "metadata": {},
     "output_type": "execute_result"
    }
   ],
   "source": [
    "df_mean"
   ],
   "metadata": {
    "collapsed": false,
    "ExecuteTime": {
     "end_time": "2024-04-25T17:33:24.625935400Z",
     "start_time": "2024-04-25T17:33:24.525215200Z"
    }
   },
   "id": "bff4e7a33bdc9fcf"
  },
  {
   "cell_type": "code",
   "execution_count": 77,
   "outputs": [
    {
     "data": {
      "text/plain": "             grouping  mc_run_id  mean_ghgs  mean_land  mean_watscar  \\\n0   fish_female_20-29      500.5   4.902947   6.489031  17131.963352   \n1   fish_female_30-39      500.5   4.942664   6.515886  17652.628540   \n2   fish_female_40-49      500.5   4.927040   6.540682  17729.964756   \n3   fish_female_50-59      500.5   4.944320   6.566172  18446.193259   \n4   fish_female_60-69      500.5   5.103823   6.866635  18922.366831   \n..                ...        ...        ...        ...           ...   \n67  veggie_male_30-39      500.5   4.807758   6.787163  16603.476202   \n68  veggie_male_40-49      500.5   4.610379   6.610474  16477.661724   \n69  veggie_male_50-59      500.5   4.455095   6.522068  16333.409315   \n70  veggie_male_60-69      500.5   4.444844   6.628730  16725.207750   \n71  veggie_male_70-79      500.5   4.612451   6.842653  17972.881279   \n\n     mean_eut  mean_ghgs_ch4  mean_ghgs_n2o    mean_bio  mean_watuse  ...  \\\n0   20.985464       0.842864       0.322486  248.135212   759.237211  ...   \n1   20.948442       0.836500       0.321971  249.827684   759.629613  ...   \n2   20.713798       0.841106       0.320413  252.846922   748.488755  ...   \n3   20.989284       0.834881       0.323892  246.789912   788.932276  ...   \n4   21.569322       0.879670       0.336023  258.645759   819.856604  ...   \n..        ...            ...            ...         ...          ...  ...   \n67  18.988080       0.811991       0.316326  266.148897   594.307015  ...   \n68  18.275813       0.764687       0.304605  251.351926   576.240665  ...   \n69  17.619071       0.733031       0.299523  244.248429   559.640001  ...   \n70  17.543012       0.738550       0.305724  248.603854   566.825960  ...   \n71  18.283813       0.794673       0.319633  259.421351   602.571533  ...   \n\n      sd_eut  sd_ghgs_ch4  sd_ghgs_n2o      sd_bio   sd_watuse   sd_acid  \\\n0   7.189752     0.457345     0.134187  152.081144  353.395121  8.314474   \n1   6.925886     0.434478     0.126576  147.730751  350.984434  7.925312   \n2   6.733437     0.455165     0.128772  156.433538  350.627288  8.131584   \n3   7.751550     0.468678     0.129589  152.830237  420.222385  8.578845   \n4   7.400676     0.486861     0.134746  163.020137  413.198002  8.663941   \n..       ...          ...          ...         ...         ...       ...   \n67  6.677684     0.506769     0.137472  175.121990  267.344494  9.331239   \n68  6.434835     0.474374     0.133076  163.537692  261.457254  8.565340   \n69  6.296666     0.469605     0.133225  162.816253  257.438657  8.310075   \n70  6.148243     0.463256     0.130636  164.801151  267.844203  8.227252   \n71  6.847723     0.499923     0.146075  176.067058  316.254523  8.917028   \n\n    n_participants     sex  diet_group  age_group  \n0           1329.0  female        fish      20-29  \n1           2024.0  female        fish      30-39  \n2           1689.0  female        fish      40-49  \n3            946.0  female        fish      50-59  \n4            492.0  female        fish      60-69  \n..             ...     ...         ...        ...  \n67          1221.0    male      veggie      30-39  \n68           961.0    male      veggie      40-49  \n69           426.0    male      veggie      50-59  \n70           229.0    male      veggie      60-69  \n71           158.0    male      veggie      70-79  \n\n[72 rows x 24 columns]",
      "text/html": "<div>\n<style scoped>\n    .dataframe tbody tr th:only-of-type {\n        vertical-align: middle;\n    }\n\n    .dataframe tbody tr th {\n        vertical-align: top;\n    }\n\n    .dataframe thead th {\n        text-align: right;\n    }\n</style>\n<table border=\"1\" class=\"dataframe\">\n  <thead>\n    <tr style=\"text-align: right;\">\n      <th></th>\n      <th>grouping</th>\n      <th>mc_run_id</th>\n      <th>mean_ghgs</th>\n      <th>mean_land</th>\n      <th>mean_watscar</th>\n      <th>mean_eut</th>\n      <th>mean_ghgs_ch4</th>\n      <th>mean_ghgs_n2o</th>\n      <th>mean_bio</th>\n      <th>mean_watuse</th>\n      <th>...</th>\n      <th>sd_eut</th>\n      <th>sd_ghgs_ch4</th>\n      <th>sd_ghgs_n2o</th>\n      <th>sd_bio</th>\n      <th>sd_watuse</th>\n      <th>sd_acid</th>\n      <th>n_participants</th>\n      <th>sex</th>\n      <th>diet_group</th>\n      <th>age_group</th>\n    </tr>\n  </thead>\n  <tbody>\n    <tr>\n      <th>0</th>\n      <td>fish_female_20-29</td>\n      <td>500.5</td>\n      <td>4.902947</td>\n      <td>6.489031</td>\n      <td>17131.963352</td>\n      <td>20.985464</td>\n      <td>0.842864</td>\n      <td>0.322486</td>\n      <td>248.135212</td>\n      <td>759.237211</td>\n      <td>...</td>\n      <td>7.189752</td>\n      <td>0.457345</td>\n      <td>0.134187</td>\n      <td>152.081144</td>\n      <td>353.395121</td>\n      <td>8.314474</td>\n      <td>1329.0</td>\n      <td>female</td>\n      <td>fish</td>\n      <td>20-29</td>\n    </tr>\n    <tr>\n      <th>1</th>\n      <td>fish_female_30-39</td>\n      <td>500.5</td>\n      <td>4.942664</td>\n      <td>6.515886</td>\n      <td>17652.628540</td>\n      <td>20.948442</td>\n      <td>0.836500</td>\n      <td>0.321971</td>\n      <td>249.827684</td>\n      <td>759.629613</td>\n      <td>...</td>\n      <td>6.925886</td>\n      <td>0.434478</td>\n      <td>0.126576</td>\n      <td>147.730751</td>\n      <td>350.984434</td>\n      <td>7.925312</td>\n      <td>2024.0</td>\n      <td>female</td>\n      <td>fish</td>\n      <td>30-39</td>\n    </tr>\n    <tr>\n      <th>2</th>\n      <td>fish_female_40-49</td>\n      <td>500.5</td>\n      <td>4.927040</td>\n      <td>6.540682</td>\n      <td>17729.964756</td>\n      <td>20.713798</td>\n      <td>0.841106</td>\n      <td>0.320413</td>\n      <td>252.846922</td>\n      <td>748.488755</td>\n      <td>...</td>\n      <td>6.733437</td>\n      <td>0.455165</td>\n      <td>0.128772</td>\n      <td>156.433538</td>\n      <td>350.627288</td>\n      <td>8.131584</td>\n      <td>1689.0</td>\n      <td>female</td>\n      <td>fish</td>\n      <td>40-49</td>\n    </tr>\n    <tr>\n      <th>3</th>\n      <td>fish_female_50-59</td>\n      <td>500.5</td>\n      <td>4.944320</td>\n      <td>6.566172</td>\n      <td>18446.193259</td>\n      <td>20.989284</td>\n      <td>0.834881</td>\n      <td>0.323892</td>\n      <td>246.789912</td>\n      <td>788.932276</td>\n      <td>...</td>\n      <td>7.751550</td>\n      <td>0.468678</td>\n      <td>0.129589</td>\n      <td>152.830237</td>\n      <td>420.222385</td>\n      <td>8.578845</td>\n      <td>946.0</td>\n      <td>female</td>\n      <td>fish</td>\n      <td>50-59</td>\n    </tr>\n    <tr>\n      <th>4</th>\n      <td>fish_female_60-69</td>\n      <td>500.5</td>\n      <td>5.103823</td>\n      <td>6.866635</td>\n      <td>18922.366831</td>\n      <td>21.569322</td>\n      <td>0.879670</td>\n      <td>0.336023</td>\n      <td>258.645759</td>\n      <td>819.856604</td>\n      <td>...</td>\n      <td>7.400676</td>\n      <td>0.486861</td>\n      <td>0.134746</td>\n      <td>163.020137</td>\n      <td>413.198002</td>\n      <td>8.663941</td>\n      <td>492.0</td>\n      <td>female</td>\n      <td>fish</td>\n      <td>60-69</td>\n    </tr>\n    <tr>\n      <th>...</th>\n      <td>...</td>\n      <td>...</td>\n      <td>...</td>\n      <td>...</td>\n      <td>...</td>\n      <td>...</td>\n      <td>...</td>\n      <td>...</td>\n      <td>...</td>\n      <td>...</td>\n      <td>...</td>\n      <td>...</td>\n      <td>...</td>\n      <td>...</td>\n      <td>...</td>\n      <td>...</td>\n      <td>...</td>\n      <td>...</td>\n      <td>...</td>\n      <td>...</td>\n      <td>...</td>\n    </tr>\n    <tr>\n      <th>67</th>\n      <td>veggie_male_30-39</td>\n      <td>500.5</td>\n      <td>4.807758</td>\n      <td>6.787163</td>\n      <td>16603.476202</td>\n      <td>18.988080</td>\n      <td>0.811991</td>\n      <td>0.316326</td>\n      <td>266.148897</td>\n      <td>594.307015</td>\n      <td>...</td>\n      <td>6.677684</td>\n      <td>0.506769</td>\n      <td>0.137472</td>\n      <td>175.121990</td>\n      <td>267.344494</td>\n      <td>9.331239</td>\n      <td>1221.0</td>\n      <td>male</td>\n      <td>veggie</td>\n      <td>30-39</td>\n    </tr>\n    <tr>\n      <th>68</th>\n      <td>veggie_male_40-49</td>\n      <td>500.5</td>\n      <td>4.610379</td>\n      <td>6.610474</td>\n      <td>16477.661724</td>\n      <td>18.275813</td>\n      <td>0.764687</td>\n      <td>0.304605</td>\n      <td>251.351926</td>\n      <td>576.240665</td>\n      <td>...</td>\n      <td>6.434835</td>\n      <td>0.474374</td>\n      <td>0.133076</td>\n      <td>163.537692</td>\n      <td>261.457254</td>\n      <td>8.565340</td>\n      <td>961.0</td>\n      <td>male</td>\n      <td>veggie</td>\n      <td>40-49</td>\n    </tr>\n    <tr>\n      <th>69</th>\n      <td>veggie_male_50-59</td>\n      <td>500.5</td>\n      <td>4.455095</td>\n      <td>6.522068</td>\n      <td>16333.409315</td>\n      <td>17.619071</td>\n      <td>0.733031</td>\n      <td>0.299523</td>\n      <td>244.248429</td>\n      <td>559.640001</td>\n      <td>...</td>\n      <td>6.296666</td>\n      <td>0.469605</td>\n      <td>0.133225</td>\n      <td>162.816253</td>\n      <td>257.438657</td>\n      <td>8.310075</td>\n      <td>426.0</td>\n      <td>male</td>\n      <td>veggie</td>\n      <td>50-59</td>\n    </tr>\n    <tr>\n      <th>70</th>\n      <td>veggie_male_60-69</td>\n      <td>500.5</td>\n      <td>4.444844</td>\n      <td>6.628730</td>\n      <td>16725.207750</td>\n      <td>17.543012</td>\n      <td>0.738550</td>\n      <td>0.305724</td>\n      <td>248.603854</td>\n      <td>566.825960</td>\n      <td>...</td>\n      <td>6.148243</td>\n      <td>0.463256</td>\n      <td>0.130636</td>\n      <td>164.801151</td>\n      <td>267.844203</td>\n      <td>8.227252</td>\n      <td>229.0</td>\n      <td>male</td>\n      <td>veggie</td>\n      <td>60-69</td>\n    </tr>\n    <tr>\n      <th>71</th>\n      <td>veggie_male_70-79</td>\n      <td>500.5</td>\n      <td>4.612451</td>\n      <td>6.842653</td>\n      <td>17972.881279</td>\n      <td>18.283813</td>\n      <td>0.794673</td>\n      <td>0.319633</td>\n      <td>259.421351</td>\n      <td>602.571533</td>\n      <td>...</td>\n      <td>6.847723</td>\n      <td>0.499923</td>\n      <td>0.146075</td>\n      <td>176.067058</td>\n      <td>316.254523</td>\n      <td>8.917028</td>\n      <td>158.0</td>\n      <td>male</td>\n      <td>veggie</td>\n      <td>70-79</td>\n    </tr>\n  </tbody>\n</table>\n<p>72 rows × 24 columns</p>\n</div>"
     },
     "execution_count": 77,
     "metadata": {},
     "output_type": "execute_result"
    }
   ],
   "source": [
    "df_mean = pd.merge(df_mean,label,on='grouping',how='inner')"
   ],
   "metadata": {
    "collapsed": false,
    "ExecuteTime": {
     "end_time": "2024-04-25T17:33:24.653194800Z",
     "start_time": "2024-04-25T17:33:24.558867900Z"
    }
   },
   "id": "8bf8e08b09aab313"
  },
  {
   "cell_type": "code",
   "execution_count": 78,
   "outputs": [],
   "source": [
    "df_mean.to_csv('df_mean.csv',index=False)"
   ],
   "metadata": {
    "collapsed": false,
    "ExecuteTime": {
     "end_time": "2024-04-25T17:34:03.359392400Z",
     "start_time": "2024-04-25T17:34:03.334303900Z"
    }
   },
   "id": "da79174439aa277f"
  }
 ],
 "metadata": {
  "kernelspec": {
   "display_name": "Python 3",
   "language": "python",
   "name": "python3"
  },
  "language_info": {
   "codemirror_mode": {
    "name": "ipython",
    "version": 2
   },
   "file_extension": ".py",
   "mimetype": "text/x-python",
   "name": "python",
   "nbconvert_exporter": "python",
   "pygments_lexer": "ipython2",
   "version": "2.7.6"
  }
 },
 "nbformat": 4,
 "nbformat_minor": 5
}
